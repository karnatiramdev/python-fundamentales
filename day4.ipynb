{
 "cells": [
  {
   "cell_type": "code",
   "execution_count": null,
   "metadata": {},
   "outputs": [],
   "source": [
    "#list data types"
   ]
  },
  {
   "cell_type": "code",
   "execution_count": 1,
   "metadata": {},
   "outputs": [
    {
     "name": "stdout",
     "output_type": "stream",
     "text": [
      "srinivas\n"
     ]
    }
   ],
   "source": [
    "student=['devanshi','nehal','srinivas','lavanya','ravi']\n",
    "print(student[2])"
   ]
  },
  {
   "cell_type": "code",
   "execution_count": 2,
   "metadata": {},
   "outputs": [
    {
     "name": "stdout",
     "output_type": "stream",
     "text": [
      "nehal\n"
     ]
    }
   ],
   "source": [
    "print(student[1])#by using index method,index always start with '0'not '1'"
   ]
  },
  {
   "cell_type": "code",
   "execution_count": 3,
   "metadata": {},
   "outputs": [
    {
     "name": "stdout",
     "output_type": "stream",
     "text": [
      "Ravi\n"
     ]
    }
   ],
   "source": [
    " print(student[4].title())"
   ]
  },
  {
   "cell_type": "code",
   "execution_count": 37,
   "metadata": {},
   "outputs": [
    {
     "name": "stdout",
     "output_type": "stream",
     "text": [
      "lavanya\n"
     ]
    }
   ],
   "source": [
    "student=['devanshi','nehal','srinivas','lavanya','ravi']\n",
    "print(student[3])"
   ]
  },
  {
   "cell_type": "markdown",
   "metadata": {},
   "source": [
    "print(student[3])"
   ]
  },
  {
   "cell_type": "code",
   "execution_count": 9,
   "metadata": {},
   "outputs": [
    {
     "name": "stdout",
     "output_type": "stream",
     "text": [
      "keep up the good work,Srinivas\n"
     ]
    }
   ],
   "source": [
    "message=f\"keep up the good work,{student[2].title()}\"\n",
    "print(message)"
   ]
  },
  {
   "cell_type": "code",
   "execution_count": 10,
   "metadata": {},
   "outputs": [
    {
     "name": "stdout",
     "output_type": "stream",
     "text": [
      "keep up the good work,Devanshi\n"
     ]
    }
   ],
   "source": [
    "message=f\"keep up the good work,{student[0].title()}\"\n",
    "print(message)"
   ]
  },
  {
   "cell_type": "code",
   "execution_count": 11,
   "metadata": {},
   "outputs": [
    {
     "name": "stdout",
     "output_type": "stream",
     "text": [
      "keep up the good work,devanshi\n"
     ]
    }
   ],
   "source": [
    "message=f\"keep up the good work,{student[0]}\"\n",
    "print(message)"
   ]
  },
  {
   "cell_type": "code",
   "execution_count": null,
   "metadata": {},
   "outputs": [],
   "source": [
    "#here the output is same,then what is the  use  of title()\n"
   ]
  },
  {
   "cell_type": "code",
   "execution_count": null,
   "metadata": {},
   "outputs": [],
   "source": [
    "#adding,modifying/changing and deleting a list"
   ]
  },
  {
   "cell_type": "code",
   "execution_count": 12,
   "metadata": {},
   "outputs": [
    {
     "name": "stdout",
     "output_type": "stream",
     "text": [
      "['devanshi', 'nehal', 'srinivas', 'lavanya', 'ravi', 'sridevi']\n"
     ]
    }
   ],
   "source": [
    "student.append('sridevi')   #adding(by defult the new name is add at the end of list)\n",
    "print(student)"
   ]
  },
  {
   "cell_type": "code",
   "execution_count": 13,
   "metadata": {},
   "outputs": [
    {
     "name": "stdout",
     "output_type": "stream",
     "text": [
      "['devanshi', 'nehal', 'swathi', 'srinivas', 'lavanya', 'ravi', 'sridevi']\n"
     ]
    }
   ],
   "source": [
    "student.insert(2,'swathi')\n",
    "print(student)"
   ]
  },
  {
   "cell_type": "code",
   "execution_count": 15,
   "metadata": {},
   "outputs": [
    {
     "name": "stdout",
     "output_type": "stream",
     "text": [
      "srinivas\n"
     ]
    }
   ],
   "source": [
    "print(student[3])"
   ]
  },
  {
   "cell_type": "code",
   "execution_count": null,
   "metadata": {},
   "outputs": [],
   "source": [
    "#modifying/changing"
   ]
  },
  {
   "cell_type": "code",
   "execution_count": 16,
   "metadata": {},
   "outputs": [
    {
     "name": "stdout",
     "output_type": "stream",
     "text": [
      "['rudira', 'nehal', 'swathi', 'srinivas', 'lavanya', 'ravi', 'sridevi']\n"
     ]
    }
   ],
   "source": [
    "student[0]='rudira'\n",
    "print(student)   #here devanshi is replaced by rudira"
   ]
  },
  {
   "cell_type": "code",
   "execution_count": null,
   "metadata": {},
   "outputs": [],
   "source": [
    "#deleting"
   ]
  },
  {
   "cell_type": "code",
   "execution_count": 17,
   "metadata": {},
   "outputs": [
    {
     "name": "stdout",
     "output_type": "stream",
     "text": [
      "['rudira', 'nehal', 'swathi', 'srinivas', 'lavanya', 'ravi', 'sridevi']\n"
     ]
    }
   ],
   "source": [
    "print(student)\n"
   ]
  },
  {
   "cell_type": "code",
   "execution_count": 18,
   "metadata": {},
   "outputs": [
    {
     "name": "stdout",
     "output_type": "stream",
     "text": [
      "['rudira', 'nehal', 'swathi', 'srinivas', 'lavanya', 'ravi']\n"
     ]
    }
   ],
   "source": [
    "student.pop()\n",
    "print(student) #by defult last element will be deleted "
   ]
  },
  {
   "cell_type": "code",
   "execution_count": 19,
   "metadata": {},
   "outputs": [
    {
     "name": "stdout",
     "output_type": "stream",
     "text": [
      "['rudira', 'nehal', 'swathi', 'srinivas', 'lavanya']\n"
     ]
    }
   ],
   "source": [
    "student.remove('ravi')\n",
    "print(student)"
   ]
  },
  {
   "cell_type": "code",
   "execution_count": 23,
   "metadata": {},
   "outputs": [
    {
     "name": "stdout",
     "output_type": "stream",
     "text": [
      "['rudira', 'nehal', 'srinivas', 'lavanya', 'swathi']\n"
     ]
    }
   ],
   "source": [
    "student.append('swathi')\n",
    "print(student)"
   ]
  },
  {
   "cell_type": "code",
   "execution_count": null,
   "metadata": {},
   "outputs": [],
   "source": [
    "#organising a list"
   ]
  },
  {
   "cell_type": "code",
   "execution_count": 24,
   "metadata": {},
   "outputs": [
    {
     "name": "stdout",
     "output_type": "stream",
     "text": [
      "['karnati', 'kishore', 'manoj', 'ram', 'sateesh']\n"
     ]
    }
   ],
   "source": [
    "my_students=['manoj','kishore','sateesh','ram','karnati']\n",
    "my_students.sort()\n",
    "print(my_students) #by using sort method  we can short the elements in assending order"
   ]
  },
  {
   "cell_type": "code",
   "execution_count": 26,
   "metadata": {},
   "outputs": [
    {
     "name": "stdout",
     "output_type": "stream",
     "text": [
      "['devanshi', 'nehal', 'srinivas', 'lavanya', 'ravi']\n"
     ]
    }
   ],
   "source": [
    "student=['devanshi','nehal','srinivas','lavanya','ravi']\n",
    "print(student)"
   ]
  },
  {
   "cell_type": "code",
   "execution_count": 27,
   "metadata": {},
   "outputs": [
    {
     "name": "stdout",
     "output_type": "stream",
     "text": [
      "['devanshi', 'lavanya', 'nehal', 'ravi', 'srinivas']\n"
     ]
    }
   ],
   "source": [
    "print(sorted(student))"
   ]
  },
  {
   "cell_type": "code",
   "execution_count": 36,
   "metadata": {},
   "outputs": [
    {
     "name": "stdout",
     "output_type": "stream",
     "text": [
      "['devanshi', 'nehal', 'srinivas', 'lavanya', 'ravi']\n",
      "['ravi', 'lavanya', 'srinivas', 'nehal', 'devanshi']\n"
     ]
    }
   ],
   "source": [
    "student=['devanshi','nehal','srinivas','lavanya','ravi']\n",
    "print(student)\n",
    "student.reverse()#the elements of a student is  print in reverse order\n",
    "print(student)"
   ]
  },
  {
   "cell_type": "code",
   "execution_count": null,
   "metadata": {},
   "outputs": [],
   "source": []
  },
  {
   "cell_type": "code",
   "execution_count": null,
   "metadata": {},
   "outputs": [],
   "source": []
  }
 ],
 "metadata": {
  "kernelspec": {
   "display_name": "Python 3",
   "language": "python",
   "name": "python3"
  },
  "language_info": {
   "codemirror_mode": {
    "name": "ipython",
    "version": 3
   },
   "file_extension": ".py",
   "mimetype": "text/x-python",
   "name": "python",
   "nbconvert_exporter": "python",
   "pygments_lexer": "ipython3",
   "version": "3.7.4"
  }
 },
 "nbformat": 4,
 "nbformat_minor": 2
}
