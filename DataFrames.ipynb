{
 "cells": [
  {
   "cell_type": "code",
   "execution_count": null,
   "metadata": {},
   "outputs": [],
   "source": [
    "#introduction to dataframes"
   ]
  },
  {
   "cell_type": "code",
   "execution_count": null,
   "metadata": {},
   "outputs": [],
   "source": [
    "#syntax of DataFrames\n",
    "#df=pd.DataFrame(data,index,columns,dtype)"
   ]
  },
  {
   "cell_type": "code",
   "execution_count": 1,
   "metadata": {},
   "outputs": [],
   "source": [
    "import numpy as np\n",
    "import pandas as pd"
   ]
  },
  {
   "cell_type": "code",
   "execution_count": 4,
   "metadata": {},
   "outputs": [
    {
     "name": "stdout",
     "output_type": "stream",
     "text": [
      "Empty DataFrame\n",
      "Columns: []\n",
      "Index: []\n"
     ]
    }
   ],
   "source": [
    "df=pd.DataFrame()\n",
    "print(df)"
   ]
  },
  {
   "cell_type": "code",
   "execution_count": 5,
   "metadata": {},
   "outputs": [
    {
     "name": "stdout",
     "output_type": "stream",
     "text": [
      "   0\n",
      "0  1\n",
      "1  2\n",
      "2  3\n",
      "3  4\n",
      "4  5\n",
      "5  6\n"
     ]
    }
   ],
   "source": [
    "data=[1,2,3,4,5,6]\n",
    "df=pd.DataFrame(data)\n",
    "print(df)#here 0  tels columns name by default"
   ]
  },
  {
   "cell_type": "code",
   "execution_count": 6,
   "metadata": {},
   "outputs": [
    {
     "name": "stdout",
     "output_type": "stream",
     "text": [
      "          0   1\n",
      "0      hari  50\n",
      "1     nehal  40\n",
      "2  devanshi  30\n",
      "3   shankar  20\n",
      "4  hepsibha  10\n"
     ]
    }
   ],
   "source": [
    "data=[['hari',50],['nehal',40],['devanshi',30],['shankar',20],['hepsibha',10]]\n",
    "df=pd.DataFrame(data)\n",
    "print(df)"
   ]
  },
  {
   "cell_type": "code",
   "execution_count": 7,
   "metadata": {},
   "outputs": [
    {
     "name": "stdout",
     "output_type": "stream",
     "text": [
      "       Name  Marks\n",
      "0      hari     50\n",
      "1     nehal     40\n",
      "2  devanshi     30\n",
      "3   shankar     20\n",
      "4  hepsibha     10\n"
     ]
    }
   ],
   "source": [
    "data=[['hari',50],['nehal',40],['devanshi',30],['shankar',20],['hepsibha',10]]\n",
    "df=pd.DataFrame(data,columns=['Name','Marks'])\n",
    "print(df)"
   ]
  },
  {
   "cell_type": "code",
   "execution_count": 8,
   "metadata": {},
   "outputs": [
    {
     "name": "stdout",
     "output_type": "stream",
     "text": [
      "       Name  Marks\n",
      "0      hari   50.0\n",
      "1     nehal   40.0\n",
      "2  devanshi   30.0\n",
      "3   shankar   20.0\n",
      "4  hepsibha   10.0\n"
     ]
    }
   ],
   "source": [
    "data=[['hari',50],['nehal',40],['devanshi',30],['shankar',20],['hepsibha',10]]\n",
    "df=pd.DataFrame(data,columns=['Name','Marks'],dtype=float)\n",
    "print(df)"
   ]
  },
  {
   "cell_type": "code",
   "execution_count": null,
   "metadata": {},
   "outputs": [],
   "source": [
    "#creating dataframe by using dict of ndarray!"
   ]
  },
  {
   "cell_type": "code",
   "execution_count": 9,
   "metadata": {},
   "outputs": [
    {
     "name": "stdout",
     "output_type": "stream",
     "text": [
      "     Name  Age\n",
      "0     tom   28\n",
      "1    jack   22\n",
      "2  streve   23\n",
      "3    rich   20\n"
     ]
    }
   ],
   "source": [
    "data={'Name':['tom','jack','streve','rich'],'Age':[28,22,23,20]}\n",
    "df=pd.DataFrame(data)\n",
    "print(df)"
   ]
  },
  {
   "cell_type": "code",
   "execution_count": null,
   "metadata": {},
   "outputs": [],
   "source": [
    "#Name,age are dict keys.in dict keys will be acting as columns names"
   ]
  },
  {
   "cell_type": "code",
   "execution_count": null,
   "metadata": {},
   "outputs": [],
   "source": [
    "#req:modifying of indexs"
   ]
  },
  {
   "cell_type": "code",
   "execution_count": 10,
   "metadata": {},
   "outputs": [
    {
     "name": "stdout",
     "output_type": "stream",
     "text": [
      "         Name   Age\n",
      "rank1     tom  28.0\n",
      "rank2    jack  22.0\n",
      "rank3  streve  23.0\n",
      "rank4    rich  20.0\n"
     ]
    }
   ],
   "source": [
    "data={'Name':['tom','jack','streve','rich'],'Age':[28,22,23,20]}\n",
    "df=pd.DataFrame(data,index=['rank1','rank2','rank3','rank4'],dtype=float)\n",
    "print(df)"
   ]
  },
  {
   "cell_type": "code",
   "execution_count": null,
   "metadata": {},
   "outputs": [],
   "source": []
  },
  {
   "cell_type": "code",
   "execution_count": null,
   "metadata": {},
   "outputs": [],
   "source": []
  },
  {
   "cell_type": "code",
   "execution_count": null,
   "metadata": {},
   "outputs": [],
   "source": []
  }
 ],
 "metadata": {
  "kernelspec": {
   "display_name": "Python 3",
   "language": "python",
   "name": "python3"
  },
  "language_info": {
   "codemirror_mode": {
    "name": "ipython",
    "version": 3
   },
   "file_extension": ".py",
   "mimetype": "text/x-python",
   "name": "python",
   "nbconvert_exporter": "python",
   "pygments_lexer": "ipython3",
   "version": "3.7.6"
  }
 },
 "nbformat": 4,
 "nbformat_minor": 4
}
