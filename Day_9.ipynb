{
 "cells": [
  {
   "cell_type": "code",
   "execution_count": null,
   "metadata": {},
   "outputs": [],
   "source": [
    "#Accepting the user input"
   ]
  },
  {
   "cell_type": "code",
   "execution_count": 19,
   "metadata": {},
   "outputs": [
    {
     "name": "stdout",
     "output_type": "stream",
     "text": [
      "tell me something & i will repeat it for you neha\n",
      "neha\n"
     ]
    }
   ],
   "source": [
    "message=input('tell me something & i will repeat it for you ')\n",
    "print(message)"
   ]
  },
  {
   "cell_type": "code",
   "execution_count": null,
   "metadata": {},
   "outputs": [],
   "source": [
    "#enhancement of the code!!"
   ]
  },
  {
   "cell_type": "code",
   "execution_count": 21,
   "metadata": {},
   "outputs": [
    {
     "name": "stdout",
     "output_type": "stream",
     "text": [
      "pls enter your name: devanshi\n",
      "Well come back ,good to see you devanshi.\n"
     ]
    }
   ],
   "source": [
    "#nehal,greeting the user!!\n",
    "name=input('pls enter your name: ')\n",
    "print(f\"Well come back ,good to see you {name}.\")"
   ]
  },
  {
   "cell_type": "code",
   "execution_count": null,
   "metadata": {},
   "outputs": [],
   "source": [
    "#Building an voting applications!!"
   ]
  },
  {
   "cell_type": "code",
   "execution_count": 18,
   "metadata": {},
   "outputs": [
    {
     "name": "stdout",
     "output_type": "stream",
     "text": [
      "how old are you  15\n",
      "\n",
      " it is not eligible for voting,try next year\n"
     ]
    }
   ],
   "source": [
    "age=input(\"how old are you  \")\n",
    "age=int(age)  #type conversion..>type casting..>casting str...>int\n",
    "if(age>=18):\n",
    "    print(\"\\n it is eligible for voting\");\n",
    "else:\n",
    "    print(\"\\n it is not eligible for voting,try next year\")"
   ]
  },
  {
   "cell_type": "code",
   "execution_count": null,
   "metadata": {},
   "outputs": [],
   "source": [
    "#problem statment!"
   ]
  },
  {
   "cell_type": "code",
   "execution_count": 12,
   "metadata": {},
   "outputs": [
    {
     "name": "stdout",
     "output_type": "stream",
     "text": [
      "\n",
      " enter a number & I will tell you it's even or odd! 29\n",
      "\n",
      " the number 29 is odd\n"
     ]
    }
   ],
   "source": [
    "# we have to tell the enterd num is even or odd!\n",
    "num=input(\"\\n enter a number & I will tell you it's even or odd! \")\n",
    "num=int(num);\n",
    "if(num%2==0):\n",
    "      print(f\"\\n the number {num} is even\");\n",
    "else:\n",
    "    print(f\"\\n the number {num} is odd\");\n",
    "    "
   ]
  },
  {
   "cell_type": "code",
   "execution_count": null,
   "metadata": {},
   "outputs": [],
   "source": [
    "#intrduction to while loop"
   ]
  },
  {
   "cell_type": "code",
   "execution_count": 13,
   "metadata": {},
   "outputs": [
    {
     "name": "stdout",
     "output_type": "stream",
     "text": [
      "1\n",
      "2\n",
      "3\n",
      "4\n",
      "5\n"
     ]
    }
   ],
   "source": [
    "current_num=1;\n",
    "while current_num<=5:\n",
    "    print(current_num)\n",
    "    current_num+=1;"
   ]
  },
  {
   "cell_type": "code",
   "execution_count": 15,
   "metadata": {},
   "outputs": [
    {
     "name": "stdout",
     "output_type": "stream",
     "text": [
      "1\n",
      "3\n",
      "5\n",
      "7\n",
      "9\n"
     ]
    }
   ],
   "source": [
    "current_num=1;\n",
    "while current_num<=10: #here the condition is the num should not exceed 10.11 is >10 so it is not display\n",
    "    print(current_num)\n",
    "    current_num+=2;#1+2=3,3+2=5,5+2=7,7+2=9,9+2=11"
   ]
  },
  {
   "cell_type": "code",
   "execution_count": 17,
   "metadata": {},
   "outputs": [
    {
     "name": "stdout",
     "output_type": "stream",
     "text": [
      "1\n",
      "3\n",
      "5\n",
      "7\n",
      "9\n",
      "11\n",
      "13\n",
      "15\n"
     ]
    }
   ],
   "source": [
    "current_num=1;\n",
    "while current_num<=15: \n",
    "    print(current_num)\n",
    "    current_num+=2;#1+2=3,3+2=5,5+2=7,7+2=9,9+2=11"
   ]
  },
  {
   "cell_type": "code",
   "execution_count": null,
   "metadata": {},
   "outputs": [],
   "source": []
  }
 ],
 "metadata": {
  "kernelspec": {
   "display_name": "Python 3",
   "language": "python",
   "name": "python3"
  },
  "language_info": {
   "codemirror_mode": {
    "name": "ipython",
    "version": 3
   },
   "file_extension": ".py",
   "mimetype": "text/x-python",
   "name": "python",
   "nbconvert_exporter": "python",
   "pygments_lexer": "ipython3",
   "version": "3.7.4"
  }
 },
 "nbformat": 4,
 "nbformat_minor": 2
}
