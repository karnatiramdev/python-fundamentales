{
 "cells": [
  {
   "cell_type": "code",
   "execution_count": 1,
   "metadata": {},
   "outputs": [
    {
     "name": "stdout",
     "output_type": "stream",
     "text": [
      "{'color': 'green', 'points': 5}\n"
     ]
    }
   ],
   "source": [
    "alien_0={'color':'green','points':5}\n",
    "print(alien_0)"
   ]
  },
  {
   "cell_type": "code",
   "execution_count": null,
   "metadata": {},
   "outputs": [],
   "source": [
    "#remove the key,values from dictionary"
   ]
  },
  {
   "cell_type": "code",
   "execution_count": 5,
   "metadata": {},
   "outputs": [
    {
     "name": "stdout",
     "output_type": "stream",
     "text": [
      "{'color': 'green'}\n"
     ]
    }
   ],
   "source": [
    "del alien_0['points']\n",
    "print(alien_0)\n"
   ]
  },
  {
   "cell_type": "code",
   "execution_count": 6,
   "metadata": {},
   "outputs": [
    {
     "name": "stdout",
     "output_type": "stream",
     "text": [
      "{'color': 'green'}\n"
     ]
    }
   ],
   "source": [
    "print(alien_0)"
   ]
  },
  {
   "cell_type": "code",
   "execution_count": 7,
   "metadata": {},
   "outputs": [
    {
     "name": "stdout",
     "output_type": "stream",
     "text": [
      "{'padma': 'java', 'hari': 'swift', 'dhanunjay': 'c++', 'hepsibha': 'python', 'shankar': 'rubyonrails'}\n"
     ]
    }
   ],
   "source": [
    "fav_lang={'padma':'java',\n",
    "          'hari':'swift',\n",
    "          'dhanunjay':'c++',\n",
    "          'hepsibha':'python',\n",
    "           'shankar':'rubyonrails'\n",
    "         }\n",
    "print(fav_lang)"
   ]
  },
  {
   "cell_type": "code",
   "execution_count": 25,
   "metadata": {},
   "outputs": [
    {
     "name": "stdout",
     "output_type": "stream",
     "text": [
      "hepsibha's favorite language is rubyonrails.\n"
     ]
    }
   ],
   "source": [
    "Language=fav_lang['hepsibha'].title()\n",
    "print(f\"hepsibha's favorite language is {language}.\")"
   ]
  },
  {
   "cell_type": "code",
   "execution_count": 19,
   "metadata": {},
   "outputs": [
    {
     "name": "stdout",
     "output_type": "stream",
     "text": [
      "Java\n"
     ]
    }
   ],
   "source": [
    "lang=fav_lang['padma'].title()\n",
    "print(lang)"
   ]
  },
  {
   "cell_type": "code",
   "execution_count": 26,
   "metadata": {},
   "outputs": [
    {
     "name": "stdout",
     "output_type": "stream",
     "text": [
      "hari's favorite language is rubyonrails.\n"
     ]
    }
   ],
   "source": [
    "print(f\"hari's favorite language is {language}.\")"
   ]
  },
  {
   "cell_type": "code",
   "execution_count": null,
   "metadata": {},
   "outputs": [],
   "source": [
    "#using get() to access the values:"
   ]
  },
  {
   "cell_type": "code",
   "execution_count": 27,
   "metadata": {},
   "outputs": [
    {
     "ename": "KeyError",
     "evalue": "'points'",
     "output_type": "error",
     "traceback": [
      "\u001b[1;31m---------------------------------------------------------------------------\u001b[0m",
      "\u001b[1;31mKeyError\u001b[0m                                  Traceback (most recent call last)",
      "\u001b[1;32m<ipython-input-27-f1f50dde710a>\u001b[0m in \u001b[0;36m<module>\u001b[1;34m\u001b[0m\n\u001b[1;32m----> 1\u001b[1;33m \u001b[0mprint\u001b[0m\u001b[1;33m(\u001b[0m\u001b[0malien_0\u001b[0m\u001b[1;33m[\u001b[0m\u001b[1;34m'points'\u001b[0m\u001b[1;33m]\u001b[0m\u001b[1;33m)\u001b[0m\u001b[1;33m\u001b[0m\u001b[1;33m\u001b[0m\u001b[0m\n\u001b[0m",
      "\u001b[1;31mKeyError\u001b[0m: 'points'"
     ]
    }
   ],
   "source": [
    "print(alien_0['points'])"
   ]
  },
  {
   "cell_type": "code",
   "execution_count": 32,
   "metadata": {},
   "outputs": [
    {
     "name": "stdout",
     "output_type": "stream",
     "text": [
      "points value has been deleted earlier\n"
     ]
    }
   ],
   "source": [
    "print_value=alien_0.get('points','points value has been deleted earlier')\n",
    "print(print_value)"
   ]
  },
  {
   "cell_type": "code",
   "execution_count": null,
   "metadata": {},
   "outputs": [],
   "source": [
    "#looping through dictionaries"
   ]
  },
  {
   "cell_type": "code",
   "execution_count": 33,
   "metadata": {},
   "outputs": [
    {
     "name": "stdout",
     "output_type": "stream",
     "text": [
      "{'user name': 'mallikharjun', 'first': 'malli', 'last': 'karnati'}\n"
     ]
    }
   ],
   "source": [
    "user_0={'user name':'mallikharjun',\n",
    "         'first':'malli',\n",
    "        'last':'karnati'\n",
    "       }\n",
    "print(user_0)"
   ]
  },
  {
   "cell_type": "code",
   "execution_count": 38,
   "metadata": {},
   "outputs": [
    {
     "name": "stdout",
     "output_type": "stream",
     "text": [
      "{'user name': 'mallikharjun', 'first': 'malli', 'last': 'karnati'}\n",
      "\n",
      "key:user name\n",
      "\n",
      "value:mallikharjun\n",
      "\n",
      "key:first\n",
      "\n",
      "value:malli\n",
      "\n",
      "key:last\n",
      "\n",
      "value:karnati\n"
     ]
    }
   ],
   "source": [
    "print(user_0)\n",
    "for key,value in user_0.items():\n",
    "    print(f\"\\nkey:{key}\")\n",
    "    print(f\"\\nvalue:{value}\")"
   ]
  },
  {
   "cell_type": "code",
   "execution_count": 41,
   "metadata": {},
   "outputs": [
    {
     "name": "stdout",
     "output_type": "stream",
     "text": [
      "\n",
      "key:user name.\n",
      "\n",
      "value:mallikharjun.\n",
      "\n",
      "key:first.\n",
      "\n",
      "value:malli.\n",
      "\n",
      "key:last.\n",
      "\n",
      "value:karnati.\n"
     ]
    }
   ],
   "source": [
    "for x,y in user_0.items():  # here x,y is temp varibles\n",
    "    print(f\"\\nkey:{x}.\")\n",
    "    print(f\"\\nvalue:{y}.\")"
   ]
  },
  {
   "cell_type": "code",
   "execution_count": null,
   "metadata": {},
   "outputs": [],
   "source": [
    "# how to get only key's or only values"
   ]
  },
  {
   "cell_type": "code",
   "execution_count": 45,
   "metadata": {},
   "outputs": [
    {
     "name": "stdout",
     "output_type": "stream",
     "text": [
      "User Name\n",
      "First\n",
      "Last\n"
     ]
    }
   ],
   "source": [
    "for x in user_0.keys():\n",
    "    print(x.title())"
   ]
  },
  {
   "cell_type": "code",
   "execution_count": 46,
   "metadata": {},
   "outputs": [
    {
     "name": "stdout",
     "output_type": "stream",
     "text": [
      "Mallikharjun\n",
      "Malli\n",
      "Karnati\n"
     ]
    }
   ],
   "source": [
    "for y in user_0.values():\n",
    "    print(y.title())"
   ]
  },
  {
   "cell_type": "code",
   "execution_count": null,
   "metadata": {},
   "outputs": [],
   "source": []
  }
 ],
 "metadata": {
  "kernelspec": {
   "display_name": "Python 3",
   "language": "python",
   "name": "python3"
  },
  "language_info": {
   "codemirror_mode": {
    "name": "ipython",
    "version": 3
   },
   "file_extension": ".py",
   "mimetype": "text/x-python",
   "name": "python",
   "nbconvert_exporter": "python",
   "pygments_lexer": "ipython3",
   "version": "3.7.4"
  }
 },
 "nbformat": 4,
 "nbformat_minor": 2
}
